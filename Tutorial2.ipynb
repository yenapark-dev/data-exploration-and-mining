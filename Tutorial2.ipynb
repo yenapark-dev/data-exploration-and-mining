{
 "cells": [
  {
   "cell_type": "code",
   "execution_count": 1,
   "metadata": {},
   "outputs": [],
   "source": [
    "num_of_students = 150\n",
    "student_name = 'Andrew'\n",
    "student_age = 21\n",
    "student_gpa = 7.0"
   ]
  },
  {
   "cell_type": "code",
   "execution_count": 2,
   "metadata": {},
   "outputs": [
    {
     "data": {
      "text/plain": [
       "int"
      ]
     },
     "execution_count": 2,
     "metadata": {},
     "output_type": "execute_result"
    }
   ],
   "source": [
    "type(student_age)"
   ]
  },
  {
   "cell_type": "code",
   "execution_count": 6,
   "metadata": {},
   "outputs": [
    {
     "data": {
      "text/plain": [
       "float"
      ]
     },
     "execution_count": 6,
     "metadata": {},
     "output_type": "execute_result"
    }
   ],
   "source": [
    "type(student_gpa)"
   ]
  },
  {
   "cell_type": "code",
   "execution_count": 7,
   "metadata": {},
   "outputs": [
    {
     "data": {
      "text/plain": [
       "str"
      ]
     },
     "execution_count": 7,
     "metadata": {},
     "output_type": "execute_result"
    }
   ],
   "source": [
    "type(student_name)"
   ]
  },
  {
   "cell_type": "code",
   "execution_count": 10,
   "metadata": {},
   "outputs": [],
   "source": [
    "student_names = []\n",
    "student_ages = []\n",
    "student_gpas = []\n",
    "def student_details(student_name, student_age, student_gpa):\n",
    "    student_names.append(student_name)\n",
    "    student_ages.append(student_age)\n",
    "    student_gpas.append(student_gpa)"
   ]
  },
  {
   "cell_type": "code",
   "execution_count": 11,
   "metadata": {},
   "outputs": [],
   "source": [
    "student_details('Jenny', 23, 6)\n",
    "student_details('Kevin', 25, 5)\n",
    "student_details('Nancy', 23, 7)"
   ]
  },
  {
   "cell_type": "code",
   "execution_count": 12,
   "metadata": {},
   "outputs": [
    {
     "name": "stdout",
     "output_type": "stream",
     "text": [
      "['Jenny', 'Kevin', 'Nancy']\n"
     ]
    }
   ],
   "source": [
    "print(student_names)"
   ]
  },
  {
   "cell_type": "code",
   "execution_count": 13,
   "metadata": {},
   "outputs": [
    {
     "name": "stdout",
     "output_type": "stream",
     "text": [
      "[23, 25, 23]\n"
     ]
    }
   ],
   "source": [
    "print(student_ages)"
   ]
  },
  {
   "cell_type": "code",
   "execution_count": 14,
   "metadata": {},
   "outputs": [
    {
     "name": "stdout",
     "output_type": "stream",
     "text": [
      "[6, 5, 7]\n"
     ]
    }
   ],
   "source": [
    "print(student_gpas)"
   ]
  },
  {
   "cell_type": "code",
   "execution_count": 15,
   "metadata": {},
   "outputs": [],
   "source": [
    "student_details('Jenny', 23, 6)"
   ]
  },
  {
   "cell_type": "code",
   "execution_count": 16,
   "metadata": {},
   "outputs": [
    {
     "name": "stdout",
     "output_type": "stream",
     "text": [
      "['Jenny', 'Kevin', 'Nancy', 'Jenny']\n",
      "[23, 25, 23, 23]\n",
      "[6, 5, 7, 6]\n"
     ]
    }
   ],
   "source": [
    "print(student_names)\n",
    "print(student_ages)\n",
    "print(student_gpas)"
   ]
  },
  {
   "cell_type": "code",
   "execution_count": 17,
   "metadata": {},
   "outputs": [
    {
     "data": {
      "text/plain": [
       "ModeResult(mode=array(['Jenny'], dtype='<U5'), count=array([2]))"
      ]
     },
     "execution_count": 17,
     "metadata": {},
     "output_type": "execute_result"
    }
   ],
   "source": [
    "from scipy import stats\n",
    "stats.mode(student_names)"
   ]
  },
  {
   "cell_type": "code",
   "execution_count": 18,
   "metadata": {},
   "outputs": [
    {
     "data": {
      "text/plain": [
       "'Jenny'"
      ]
     },
     "execution_count": 18,
     "metadata": {},
     "output_type": "execute_result"
    }
   ],
   "source": [
    "stats.mode(student_names)[0][0]"
   ]
  },
  {
   "cell_type": "code",
   "execution_count": 19,
   "metadata": {},
   "outputs": [
    {
     "name": "stdout",
     "output_type": "stream",
     "text": [
      "This\n",
      "is\n",
      "a\n",
      "fairly\n",
      "boring\n",
      "sentence.\n"
     ]
    }
   ],
   "source": [
    "sentence = \"This is a fairly boring sentence.\"\n",
    "\n",
    "words = sentence.split(\" \")\n",
    "\n",
    "for word in words:\n",
    "    print(word)"
   ]
  },
  {
   "cell_type": "code",
   "execution_count": 20,
   "metadata": {},
   "outputs": [
    {
     "name": "stdout",
     "output_type": "stream",
     "text": [
      "['If', 'you', 'fail', 'to', 'plan', 'then', 'you', 'plan', 'to', 'fail']\n",
      "10\n",
      "['do', 'not', 'fail', 'me', 'or', 'else', 'I', 'will', 'fail', 'you']\n",
      "10\n",
      "{'fail', 'then', 'If', 'to', 'you', 'plan'}\n",
      "{'fail', 'else', 'not', 'will', 'or', 'you', 'me', 'do', 'I'}\n",
      "{'fail', 'else', 'not', 'will', 'or', 'me', 'do', 'then', 'If', 'to', 'you', 'plan', 'I'}\n",
      "['1', '0', '0', '0', '0', '0', '0', '1', '1', '1', '1', '1', '0']\n",
      "['1', '1', '1', '1', '1', '1', '1', '0', '0', '0', '1', '0', '1']\n",
      "13\n"
     ]
    }
   ],
   "source": [
    "d1 = \"If you fail to plan then you plan to fail\"\n",
    "list1 = d1.split(\" \")\n",
    "print(list1)\n",
    "print(len(list1))\n",
    "\n",
    "d2 = \"do not fail me or else I will fail you\"\n",
    "list2 = d2.split(\" \")\n",
    "print(list2)\n",
    "print(len(list2))\n",
    "\n",
    "d1_set= {'If','you','fail','to','plan','then','you','plan','to','fail'}\n",
    "print(d1_set)\n",
    "\n",
    "d2_set = {'do','not','fail','me','or','else','I','will','fail','you'}\n",
    "print(d2_set)\n",
    "\n",
    "d1_set.update(d2_set)\n",
    "print(d1_set)\n",
    "\n",
    "new_list1 = []\n",
    "new_list2 = []\n",
    "\n",
    "for item in d1_set:\n",
    "    if item in list1:\n",
    "        new_list1.append(\"1\")\n",
    "    else:\n",
    "        new_list1.append(\"0\")\n",
    "\n",
    "print(new_list1)\n",
    "\n",
    "for item in d1_set:\n",
    "    if item in list2:\n",
    "        new_list2.append(\"1\")\n",
    "    else:\n",
    "        new_list2.append(\"0\")\n",
    "\n",
    "print(new_list2)\n",
    "print(len(new_list2))\n",
    "\n"
   ]
  },
  {
   "cell_type": "code",
   "execution_count": 25,
   "metadata": {},
   "outputs": [
    {
     "name": "stdout",
     "output_type": "stream",
     "text": [
      "<zip object at 0x7fc3a3f29b40>\n",
      "2\n"
     ]
    }
   ],
   "source": [
    "zip_list = zip(new_list1, new_list2)\n",
    "print(zip_list)\n",
    "jc_count=0\n",
    "for idx in zip_list:\n",
    "    if idx[0] == idx[1]:\n",
    "        jc_count+=1\n",
    "print(jc_count)"
   ]
  },
  {
   "cell_type": "code",
   "execution_count": null,
   "metadata": {},
   "outputs": [],
   "source": []
  }
 ],
 "metadata": {
  "kernelspec": {
   "display_name": "Python 3",
   "language": "python",
   "name": "python3"
  },
  "language_info": {
   "codemirror_mode": {
    "name": "ipython",
    "version": 3
   },
   "file_extension": ".py",
   "mimetype": "text/x-python",
   "name": "python",
   "nbconvert_exporter": "python",
   "pygments_lexer": "ipython3",
   "version": "3.7.6"
  }
 },
 "nbformat": 4,
 "nbformat_minor": 4
}
